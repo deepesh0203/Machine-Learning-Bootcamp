{
  "nbformat": 4,
  "nbformat_minor": 0,
  "metadata": {
    "colab": {
      "provenance": []
    },
    "kernelspec": {
      "name": "python3",
      "display_name": "Python 3"
    },
    "language_info": {
      "name": "python"
    }
  },
  "cells": [
    {
      "cell_type": "code",
      "execution_count": null,
      "metadata": {
        "id": "LNvirkaiXgJ7"
      },
      "outputs": [],
      "source": [
        "import tensorflow as tf\n",
        "from tensorflow.keras.datasets import mnist"
      ]
    },
    {
      "cell_type": "code",
      "source": [
        "(x_train,y_train),(x_test,y_test)=mnist.load_data()\n",
        "x_train=x_train.reshape(-1,28,28,1).astype('float32')/255.0\n",
        "x_test=x_test.reshape(-1,28,28,1).astype('float32')/255.0\n",
        "\n",
        "y_train=tf.keras.utils.to_categorical(y_train,10)\n",
        "y_test=tf.keras.utils.to_categorical(y_test,10)"
      ],
      "metadata": {
        "id": "Sf2YB-5kXpGe"
      },
      "execution_count": null,
      "outputs": []
    },
    {
      "cell_type": "code",
      "source": [
        "print(x_test.shape,y_test.shape)"
      ],
      "metadata": {
        "colab": {
          "base_uri": "https://localhost:8080/"
        },
        "id": "cDpwcRiVYrAI",
        "outputId": "a3196408-431d-4511-d13a-e8b00b9ffc90"
      },
      "execution_count": null,
      "outputs": [
        {
          "output_type": "stream",
          "name": "stdout",
          "text": [
            "(10000, 28, 28, 1) (10000, 10)\n"
          ]
        }
      ]
    },
    {
      "cell_type": "code",
      "source": [
        "print(x_train.shape,y_train.shape)"
      ],
      "metadata": {
        "colab": {
          "base_uri": "https://localhost:8080/"
        },
        "id": "T8ZgJFjMb2ss",
        "outputId": "4408f6c3-a0e6-4450-d0ac-24ecbd5a8915"
      },
      "execution_count": null,
      "outputs": [
        {
          "output_type": "stream",
          "name": "stdout",
          "text": [
            "(60000, 28, 28, 1) (60000, 10)\n"
          ]
        }
      ]
    },
    {
      "cell_type": "code",
      "source": [
        "import matplotlib.pyplot as plt\n",
        "index=59000\n",
        "plt.imshow(x_train[index])\n",
        "plt.show()\n",
        "print(y_train[index])"
      ],
      "metadata": {
        "colab": {
          "base_uri": "https://localhost:8080/",
          "height": 447
        },
        "id": "SF8UYH4tZswb",
        "outputId": "d05a29fe-c7ed-43f4-ec81-dba68e5656a6"
      },
      "execution_count": null,
      "outputs": [
        {
          "output_type": "display_data",
          "data": {
            "text/plain": [
              "<Figure size 640x480 with 1 Axes>"
            ],
            "image/png": "[encoded data removed]"
          },
          "metadata": {}
        },
        {
          "output_type": "stream",
          "name": "stdout",
          "text": [
            "[0. 0. 0. 0. 0. 0. 1. 0. 0. 0.]\n"
          ]
        }
      ]
    },
    {
      "cell_type": "code",
      "source": [],
      "metadata": {
        "id": "U9VCGL6RaKaZ"
      },
      "execution_count": null,
      "outputs": []
    },
    {
      "cell_type": "code",
      "source": [
        "from tensorflow.keras.models import Sequential\n",
        "from tensorflow.keras.layers import Flatten,Dense\n",
        "\n",
        "def build_ann_model():\n",
        "  model=Sequential()\n",
        "  model.add(Flatten(input_shape=(28,28,1)))\n",
        "  model.add(Dense(128,activation=\"relu\"))\n",
        "  model.add(Dense(64,activation=\"relu\"))\n",
        "  model.add(Dense(10,activation=\"softmax\"))\n",
        "  return model\n"
      ],
      "metadata": {
        "id": "j_785lzZafCG"
      },
      "execution_count": null,
      "outputs": []
    },
    {
      "cell_type": "code",
      "source": [
        "ann_model=build_ann_model()\n",
        "ann_model.summary()"
      ],
      "metadata": {
        "colab": {
          "base_uri": "https://localhost:8080/"
        },
        "id": "KBD2ypbgbfVZ",
        "outputId": "43248aea-448d-4b26-907c-2787cbecda1a"
      },
      "execution_count": null,
      "outputs": [
        {
          "output_type": "stream",
          "name": "stdout",
          "text": [
            "Model: \"sequential_1\"\n",
            "_________________________________________________________________\n",
            " Layer (type)                Output Shape              Param #   \n",
            "=================================================================\n",
            " flatten_1 (Flatten)         (None, 784)               0         \n",
            "                                                                 \n",
            " dense_3 (Dense)             (None, 128)               100480    \n",
            "                                                                 \n",
            " dense_4 (Dense)             (None, 64)                8256      \n",
            "                                                                 \n",
            " dense_5 (Dense)             (None, 10)                650       \n",
            "                                                                 \n",
            "=================================================================\n",
            "Total params: 109386 (427.29 KB)\n",
            "Trainable params: 109386 (427.29 KB)\n",
            "Non-trainable params: 0 (0.00 Byte)\n",
            "_________________________________________________________________\n"
          ]
        }
      ]
    },
    {
      "cell_type": "code",
      "source": [
        "ann_model.compile(optimizer='adam',loss='categorical_crossentropy',metrics=('accuracy'))\n",
        "ann_model.fit(x_train,y_train,epochs=10,validation_data=(x_test,y_test))"
      ],
      "metadata": {
        "colab": {
          "base_uri": "https://localhost:8080/"
        },
        "id": "qmYoSLqVb1mE",
        "outputId": "10416be9-ad95-4bac-d5e6-1e2796478f7a"
      },
      "execution_count": null,
      "outputs": [
        {
          "output_type": "stream",
          "name": "stdout",
          "text": [
            "Epoch 1/10\n",
            "1875/1875 [==============================] - 10s 5ms/step - loss: 0.2399 - accuracy: 0.9312 - val_loss: 0.1189 - val_accuracy: 0.9634\n",
            "Epoch 2/10\n",
            "1875/1875 [==============================] - 9s 5ms/step - loss: 0.1027 - accuracy: 0.9695 - val_loss: 0.0983 - val_accuracy: 0.9679\n",
            "Epoch 3/10\n",
            "1875/1875 [==============================] - 8s 4ms/step - loss: 0.0746 - accuracy: 0.9762 - val_loss: 0.0843 - val_accuracy: 0.9734\n",
            "Epoch 4/10\n",
            "1875/1875 [==============================] - 13s 7ms/step - loss: 0.0550 - accuracy: 0.9826 - val_loss: 0.0764 - val_accuracy: 0.9765\n",
            "Epoch 5/10\n",
            "1875/1875 [==============================] - 9s 5ms/step - loss: 0.0454 - accuracy: 0.9853 - val_loss: 0.0729 - val_accuracy: 0.9771\n",
            "Epoch 6/10\n",
            "1875/1875 [==============================] - 10s 5ms/step - loss: 0.0355 - accuracy: 0.9882 - val_loss: 0.0813 - val_accuracy: 0.9764\n",
            "Epoch 7/10\n",
            "1875/1875 [==============================] - 10s 5ms/step - loss: 0.0290 - accuracy: 0.9902 - val_loss: 0.0788 - val_accuracy: 0.9777\n",
            "Epoch 8/10\n",
            "1875/1875 [==============================] - 8s 4ms/step - loss: 0.0248 - accuracy: 0.9916 - val_loss: 0.0986 - val_accuracy: 0.9750\n",
            "Epoch 9/10\n",
            "1875/1875 [==============================] - 9s 5ms/step - loss: 0.0211 - accuracy: 0.9930 - val_loss: 0.0801 - val_accuracy: 0.9796\n",
            "Epoch 10/10\n",
            "1875/1875 [==============================] - 10s 5ms/step - loss: 0.0191 - accuracy: 0.9935 - val_loss: 0.0836 - val_accuracy: 0.9793\n"
          ]
        },
        {
          "output_type": "execute_result",
          "data": {
            "text/plain": [
              "<keras.src.callbacks.History at 0x7b03d95c1d20>"
            ]
          },
          "metadata": {},
          "execution_count": 20
        }
      ]
    },
    {
      "cell_type": "code",
      "source": [],
      "metadata": {
        "id": "rhYNj61ad_vU"
      },
      "execution_count": null,
      "outputs": []
    },
    {
      "cell_type": "code",
      "source": [
        "ann_loss,ann_acc=ann_model.evaluate(x_test,y_test)\n",
        "ann_acc"
      ],
      "metadata": {
        "colab": {
          "base_uri": "https://localhost:8080/"
        },
        "id": "kt12ZUB3duwR",
        "outputId": "62822bbc-4c50-414b-b25f-d8d1ef1ffc13"
      },
      "execution_count": null,
      "outputs": [
        {
          "output_type": "stream",
          "name": "stdout",
          "text": [
            "313/313 [==============================] - 1s 2ms/step - loss: 0.0836 - accuracy: 0.9793\n"
          ]
        },
        {
          "output_type": "execute_result",
          "data": {
            "text/plain": [
              "0.9793000221252441"
            ]
          },
          "metadata": {},
          "execution_count": 21
        }
      ]
    },
    {
      "cell_type": "code",
      "source": [
        "from tensorflow.keras.models import Sequential\n",
        "from tensorflow.keras.layers import Flatten,Dense,Conv2D,MaxPooling2D\n",
        "\n",
        "def build_cnn_model():\n",
        "  model=Sequential()\n",
        "  model.add(Conv2D(32,(3,3),activation=\"relu\",input_shape=(28,28,1)))\n",
        "  model.add(MaxPooling2D((2,2)))\n",
        "  model.add(Conv2D(64,(3,3),activation=\"relu\"))\n",
        "  model.add(MaxPooling2D((2,2)))\n",
        "  model.add(Flatten())\n",
        "  model.add(Dense(64,activation=\"relu\"))\n",
        "  model.add(Dense(10,activation=\"softmax\"))\n",
        "  return model\n"
      ],
      "metadata": {
        "id": "cUx7B9UseA-G"
      },
      "execution_count": null,
      "outputs": []
    },
    {
      "cell_type": "code",
      "source": [
        "cnn_model=build_cnn_model()\n",
        "cnn_model.summary()"
      ],
      "metadata": {
        "colab": {
          "base_uri": "https://localhost:8080/"
        },
        "id": "TXGiGhod94Zk",
        "outputId": "9fa962e6-e5c7-4c1a-a5ad-d253a58d81d1"
      },
      "execution_count": null,
      "outputs": [
        {
          "output_type": "stream",
          "name": "stdout",
          "text": [
            "Model: \"sequential_2\"\n",
            "_________________________________________________________________\n",
            " Layer (type)                Output Shape              Param #   \n",
            "=================================================================\n",
            " conv2d (Conv2D)             (None, 26, 26, 32)        320       \n",
            "                                                                 \n",
            " max_pooling2d (MaxPooling2  (None, 13, 13, 32)        0         \n",
            " D)                                                              \n",
            "                                                                 \n",
            " conv2d_1 (Conv2D)           (None, 11, 11, 64)        18496     \n",
            "                                                                 \n",
            " max_pooling2d_1 (MaxPoolin  (None, 5, 5, 64)          0         \n",
            " g2D)                                                            \n",
            "                                                                 \n",
            " flatten_2 (Flatten)         (None, 1600)              0         \n",
            "                                                                 \n",
            " dense_6 (Dense)             (None, 64)                102464    \n",
            "                                                                 \n",
            " dense_7 (Dense)             (None, 10)                650       \n",
            "                                                                 \n",
            "=================================================================\n",
            "Total params: 121930 (476.29 KB)\n",
            "Trainable params: 121930 (476.29 KB)\n",
            "Non-trainable params: 0 (0.00 Byte)\n",
            "_________________________________________________________________\n"
          ]
        }
      ]
    },
    {
      "cell_type": "code",
      "source": [
        "cnn_model.compile(optimizer='adam',loss='categorical_crossentropy',metrics=('accuracy'))\n",
        "cnn_model.fit(x_train,y_train,epochs=10,validation_data=(x_test,y_test))"
      ],
      "metadata": {
        "colab": {
          "base_uri": "https://localhost:8080/"
        },
        "id": "ZMX-gUHp-GPV",
        "outputId": "f6a490dc-dc6c-4c8e-aebe-7b66e85b24be"
      },
      "execution_count": null,
      "outputs": [
        {
          "output_type": "stream",
          "name": "stdout",
          "text": [
            "Epoch 1/10\n",
            "1875/1875 [==============================] - 62s 33ms/step - loss: 0.1332 - accuracy: 0.9588 - val_loss: 0.0411 - val_accuracy: 0.9869\n",
            "Epoch 2/10\n",
            "1875/1875 [==============================] - 59s 31ms/step - loss: 0.0440 - accuracy: 0.9867 - val_loss: 0.0478 - val_accuracy: 0.9849\n",
            "Epoch 3/10\n",
            "1875/1875 [==============================] - 71s 38ms/step - loss: 0.0312 - accuracy: 0.9901 - val_loss: 0.0395 - val_accuracy: 0.9870\n",
            "Epoch 4/10\n",
            "1875/1875 [==============================] - 57s 30ms/step - loss: 0.0227 - accuracy: 0.9928 - val_loss: 0.0286 - val_accuracy: 0.9911\n",
            "Epoch 5/10\n",
            "1875/1875 [==============================] - 59s 32ms/step - loss: 0.0173 - accuracy: 0.9944 - val_loss: 0.0358 - val_accuracy: 0.9896\n",
            "Epoch 6/10\n",
            "1875/1875 [==============================] - 55s 29ms/step - loss: 0.0138 - accuracy: 0.9953 - val_loss: 0.0415 - val_accuracy: 0.9855\n",
            "Epoch 7/10\n",
            "1875/1875 [==============================] - 57s 30ms/step - loss: 0.0108 - accuracy: 0.9966 - val_loss: 0.0313 - val_accuracy: 0.9916\n",
            "Epoch 8/10\n",
            "1875/1875 [==============================] - 56s 30ms/step - loss: 0.0087 - accuracy: 0.9969 - val_loss: 0.0344 - val_accuracy: 0.9907\n",
            "Epoch 9/10\n",
            "1875/1875 [==============================] - 56s 30ms/step - loss: 0.0080 - accuracy: 0.9975 - val_loss: 0.0330 - val_accuracy: 0.9926\n",
            "Epoch 10/10\n",
            "1875/1875 [==============================] - 58s 31ms/step - loss: 0.0064 - accuracy: 0.9979 - val_loss: 0.0316 - val_accuracy: 0.9930\n"
          ]
        },
        {
          "output_type": "execute_result",
          "data": {
            "text/plain": [
              "<keras.src.callbacks.History at 0x7b03f6a69f90>"
            ]
          },
          "metadata": {},
          "execution_count": 25
        }
      ]
    },
    {
      "cell_type": "code",
      "source": [
        "cnn_loss,cnn_acc=cnn_model.evaluate(x_test,y_test)\n",
        "cnn_acc"
      ],
      "metadata": {
        "colab": {
          "base_uri": "https://localhost:8080/"
        },
        "id": "_IT8I4S1-_vM",
        "outputId": "67a788cf-5f2c-4d8a-c256-22e570741cfd"
      },
      "execution_count": null,
      "outputs": [
        {
          "output_type": "stream",
          "name": "stdout",
          "text": [
            "313/313 [==============================] - 7s 21ms/step - loss: 0.0316 - accuracy: 0.9930\n"
          ]
        },
        {
          "output_type": "execute_result",
          "data": {
            "text/plain": [
              "0.9929999709129333"
            ]
          },
          "metadata": {},
          "execution_count": 27
        }
      ]
    },
    {
      "cell_type": "code",
      "source": [],
      "metadata": {
        "id": "q3jbbBUNA8lr"
      },
      "execution_count": null,
      "outputs": []
    }
  ]
}